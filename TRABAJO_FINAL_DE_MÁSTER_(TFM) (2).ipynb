{
  "nbformat": 4,
  "nbformat_minor": 0,
  "metadata": {
    "colab": {
      "name": "TRABAJO_FINAL_DE_MÁSTER_(TFM).ipynb",
      "provenance": []
    },
    "kernelspec": {
      "name": "python3",
      "display_name": "Python 3"
    },
    "language_info": {
      "name": "python"
    }
  },
  "cells": [
    {
      "cell_type": "markdown",
      "metadata": {
        "id": "jow93rp2USSo"
      },
      "source": [
        "**Grupo 4**\n",
        "\n"
      ]
    },
    {
      "cell_type": "markdown",
      "metadata": {
        "id": "kFhVH9KtQ80F"
      },
      "source": [
        "Desarrollo de un modelo predictivo de detección precoz de anemia en infantes menores de 5 años de Perú\n"
      ]
    },
    {
      "cell_type": "markdown",
      "metadata": {
        "id": "1RfXmopDNMkg"
      },
      "source": [
        "Instalamos e importamos las librerías con las cuales trabajaremos:"
      ]
    },
    {
      "cell_type": "code",
      "metadata": {
        "id": "fRR9vXFsNGzH",
        "colab": {
          "base_uri": "https://localhost:8080/"
        },
        "outputId": "a5a5805f-7908-44e9-dd02-45d0b4968a9d"
      },
      "source": [
        "import pandas as pd\n",
        "from sklearn.model_selection import train_test_split, RandomizedSearchCV\n",
        "from sklearn.ensemble import RandomForestClassifier\n",
        "from sklearn.metrics import accuracy_score, cohen_kappa_score, confusion_matrix\n",
        "import numpy as np\n",
        "import matplotlib.pyplot as plt\n",
        "from imblearn.over_sampling import SMOTE"
      ],
      "execution_count": null,
      "outputs": [
        {
          "output_type": "stream",
          "name": "stderr",
          "text": [
            "/usr/local/lib/python3.7/dist-packages/sklearn/externals/six.py:31: FutureWarning: The module is deprecated in version 0.21 and will be removed in version 0.23 since we've dropped support for Python 2.7. Please rely on the official version of six (https://pypi.org/project/six/).\n",
            "  \"(https://pypi.org/project/six/).\", FutureWarning)\n",
            "/usr/local/lib/python3.7/dist-packages/sklearn/utils/deprecation.py:144: FutureWarning: The sklearn.neighbors.base module is  deprecated in version 0.22 and will be removed in version 0.24. The corresponding classes / functions should instead be imported from sklearn.neighbors. Anything that cannot be imported from sklearn.neighbors is now part of the private API.\n",
            "  warnings.warn(message, FutureWarning)\n"
          ]
        }
      ]
    },
    {
      "cell_type": "markdown",
      "metadata": {
        "id": "ypCqRKb7NZU7"
      },
      "source": [
        "Cargamos el dataset raw:"
      ]
    },
    {
      "cell_type": "code",
      "metadata": {
        "id": "vpx8y_FUNa5n",
        "colab": {
          "base_uri": "https://localhost:8080/",
          "height": 204
        },
        "outputId": "2c1e2d0b-e55d-4199-cb68-976b0aca367a"
      },
      "source": [
        "data_raw = pd.read_csv('/content/datosanemia_sin_outliers.csv', sep=\";\", decimal=\",\", encoding='latin-1')\n",
        "data_raw.head()"
      ],
      "execution_count": null,
      "outputs": [
        {
          "output_type": "execute_result",
          "data": {
            "text/html": [
              "<div>\n",
              "<style scoped>\n",
              "    .dataframe tbody tr th:only-of-type {\n",
              "        vertical-align: middle;\n",
              "    }\n",
              "\n",
              "    .dataframe tbody tr th {\n",
              "        vertical-align: top;\n",
              "    }\n",
              "\n",
              "    .dataframe thead th {\n",
              "        text-align: right;\n",
              "    }\n",
              "</style>\n",
              "<table border=\"1\" class=\"dataframe\">\n",
              "  <thead>\n",
              "    <tr style=\"text-align: right;\">\n",
              "      <th></th>\n",
              "      <th>Unnamed: 0</th>\n",
              "      <th>X</th>\n",
              "      <th>ï..CASEID</th>\n",
              "      <th>HW1</th>\n",
              "      <th>HW2</th>\n",
              "      <th>HW3</th>\n",
              "      <th>HW53</th>\n",
              "      <th>V101</th>\n",
              "      <th>V102</th>\n",
              "      <th>V103</th>\n",
              "      <th>V104</th>\n",
              "      <th>V106</th>\n",
              "      <th>V113</th>\n",
              "      <th>V119</th>\n",
              "      <th>V122</th>\n",
              "      <th>anemia</th>\n",
              "    </tr>\n",
              "  </thead>\n",
              "  <tbody>\n",
              "    <tr>\n",
              "      <th>0</th>\n",
              "      <td>1</td>\n",
              "      <td>1</td>\n",
              "      <td>1001192.0</td>\n",
              "      <td>41.0</td>\n",
              "      <td>15.9</td>\n",
              "      <td>98.9</td>\n",
              "      <td>NaN</td>\n",
              "      <td>17</td>\n",
              "      <td>2</td>\n",
              "      <td>3</td>\n",
              "      <td>7</td>\n",
              "      <td>1</td>\n",
              "      <td>43</td>\n",
              "      <td>0</td>\n",
              "      <td>0</td>\n",
              "      <td>0</td>\n",
              "    </tr>\n",
              "    <tr>\n",
              "      <th>1</th>\n",
              "      <td>2</td>\n",
              "      <td>2</td>\n",
              "      <td>1001212.0</td>\n",
              "      <td>7.0</td>\n",
              "      <td>9.7</td>\n",
              "      <td>69.0</td>\n",
              "      <td>NaN</td>\n",
              "      <td>17</td>\n",
              "      <td>2</td>\n",
              "      <td>3</td>\n",
              "      <td>15</td>\n",
              "      <td>2</td>\n",
              "      <td>43</td>\n",
              "      <td>0</td>\n",
              "      <td>0</td>\n",
              "      <td>1</td>\n",
              "    </tr>\n",
              "    <tr>\n",
              "      <th>2</th>\n",
              "      <td>3</td>\n",
              "      <td>3</td>\n",
              "      <td>1001232.0</td>\n",
              "      <td>0.0</td>\n",
              "      <td>4.0</td>\n",
              "      <td>51.6</td>\n",
              "      <td>NaN</td>\n",
              "      <td>17</td>\n",
              "      <td>2</td>\n",
              "      <td>3</td>\n",
              "      <td>1</td>\n",
              "      <td>2</td>\n",
              "      <td>43</td>\n",
              "      <td>0</td>\n",
              "      <td>0</td>\n",
              "      <td>0</td>\n",
              "    </tr>\n",
              "    <tr>\n",
              "      <th>3</th>\n",
              "      <td>4</td>\n",
              "      <td>4</td>\n",
              "      <td>1004442.0</td>\n",
              "      <td>49.0</td>\n",
              "      <td>17.1</td>\n",
              "      <td>93.8</td>\n",
              "      <td>NaN</td>\n",
              "      <td>17</td>\n",
              "      <td>2</td>\n",
              "      <td>2</td>\n",
              "      <td>10</td>\n",
              "      <td>1</td>\n",
              "      <td>11</td>\n",
              "      <td>1</td>\n",
              "      <td>0</td>\n",
              "      <td>1</td>\n",
              "    </tr>\n",
              "    <tr>\n",
              "      <th>4</th>\n",
              "      <td>5</td>\n",
              "      <td>5</td>\n",
              "      <td>1004487.0</td>\n",
              "      <td>19.0</td>\n",
              "      <td>10.1</td>\n",
              "      <td>78.5</td>\n",
              "      <td>NaN</td>\n",
              "      <td>17</td>\n",
              "      <td>2</td>\n",
              "      <td>3</td>\n",
              "      <td>96</td>\n",
              "      <td>1</td>\n",
              "      <td>97</td>\n",
              "      <td>7</td>\n",
              "      <td>7</td>\n",
              "      <td>0</td>\n",
              "    </tr>\n",
              "  </tbody>\n",
              "</table>\n",
              "</div>"
            ],
            "text/plain": [
              "   Unnamed: 0  X  ï..CASEID   HW1   HW2  ...  V106  V113  V119  V122  anemia\n",
              "0           1  1  1001192.0  41.0  15.9  ...     1    43     0     0       0\n",
              "1           2  2  1001212.0   7.0   9.7  ...     2    43     0     0       1\n",
              "2           3  3  1001232.0   0.0   4.0  ...     2    43     0     0       0\n",
              "3           4  4  1004442.0  49.0  17.1  ...     1    11     1     0       1\n",
              "4           5  5  1004487.0  19.0  10.1  ...     1    97     7     7       0\n",
              "\n",
              "[5 rows x 16 columns]"
            ]
          },
          "metadata": {},
          "execution_count": 7
        }
      ]
    },
    {
      "cell_type": "markdown",
      "metadata": {
        "id": "WX4KCpn6O76v"
      },
      "source": [
        "Modificamos los headers: "
      ]
    },
    {
      "cell_type": "code",
      "metadata": {
        "colab": {
          "base_uri": "https://localhost:8080/",
          "height": 241
        },
        "id": "SGaRWFKaO-X3",
        "outputId": "a372eed5-f00e-4e81-ea4f-80d3f9a437f0"
      },
      "source": [
        "columns = {\n",
        "    \"HW1\": \"edad_meses\",\n",
        "    \"HW2\": \"peso_kg\",\n",
        "    \"HW3\": \"altura_cm\",\n",
        "    \"HW53\": \"hemoglobina\",\n",
        "    \"V101\": \"departamento\",\n",
        "    \"V102\": \"tipo_resid\",\n",
        "    \"V103\": \"sitio_resid\",\n",
        "    \"V104\": \"anos_resid\",\n",
        "    \"V106\": \"educ\",\n",
        "    \"V113\": \"agua_potable\",\n",
        "    \"V119\": \"elet\",\n",
        "    \"V122\": \"conserv_alim\",\n",
        "    \"ï..CASEID\": \"CASEID\"\n",
        "}\n",
        "\n",
        "data_input = pd.DataFrame(data_raw).rename(columns=columns)\n",
        "data_input.head()"
      ],
      "execution_count": null,
      "outputs": [
        {
          "output_type": "execute_result",
          "data": {
            "text/html": [
              "<div>\n",
              "<style scoped>\n",
              "    .dataframe tbody tr th:only-of-type {\n",
              "        vertical-align: middle;\n",
              "    }\n",
              "\n",
              "    .dataframe tbody tr th {\n",
              "        vertical-align: top;\n",
              "    }\n",
              "\n",
              "    .dataframe thead th {\n",
              "        text-align: right;\n",
              "    }\n",
              "</style>\n",
              "<table border=\"1\" class=\"dataframe\">\n",
              "  <thead>\n",
              "    <tr style=\"text-align: right;\">\n",
              "      <th></th>\n",
              "      <th>Unnamed: 0</th>\n",
              "      <th>X</th>\n",
              "      <th>CASEID</th>\n",
              "      <th>edad_meses</th>\n",
              "      <th>peso_kg</th>\n",
              "      <th>altura_cm</th>\n",
              "      <th>hemoglobina</th>\n",
              "      <th>departamento</th>\n",
              "      <th>tipo_resid</th>\n",
              "      <th>sitio_resid</th>\n",
              "      <th>anos_resid</th>\n",
              "      <th>educ</th>\n",
              "      <th>agua_potable</th>\n",
              "      <th>elet</th>\n",
              "      <th>conserv_alim</th>\n",
              "      <th>anemia</th>\n",
              "    </tr>\n",
              "  </thead>\n",
              "  <tbody>\n",
              "    <tr>\n",
              "      <th>0</th>\n",
              "      <td>1</td>\n",
              "      <td>1</td>\n",
              "      <td>1001192.0</td>\n",
              "      <td>41.0</td>\n",
              "      <td>15.9</td>\n",
              "      <td>98.9</td>\n",
              "      <td>NaN</td>\n",
              "      <td>17</td>\n",
              "      <td>2</td>\n",
              "      <td>3</td>\n",
              "      <td>7</td>\n",
              "      <td>1</td>\n",
              "      <td>43</td>\n",
              "      <td>0</td>\n",
              "      <td>0</td>\n",
              "      <td>0</td>\n",
              "    </tr>\n",
              "    <tr>\n",
              "      <th>1</th>\n",
              "      <td>2</td>\n",
              "      <td>2</td>\n",
              "      <td>1001212.0</td>\n",
              "      <td>7.0</td>\n",
              "      <td>9.7</td>\n",
              "      <td>69.0</td>\n",
              "      <td>NaN</td>\n",
              "      <td>17</td>\n",
              "      <td>2</td>\n",
              "      <td>3</td>\n",
              "      <td>15</td>\n",
              "      <td>2</td>\n",
              "      <td>43</td>\n",
              "      <td>0</td>\n",
              "      <td>0</td>\n",
              "      <td>1</td>\n",
              "    </tr>\n",
              "    <tr>\n",
              "      <th>2</th>\n",
              "      <td>3</td>\n",
              "      <td>3</td>\n",
              "      <td>1001232.0</td>\n",
              "      <td>0.0</td>\n",
              "      <td>4.0</td>\n",
              "      <td>51.6</td>\n",
              "      <td>NaN</td>\n",
              "      <td>17</td>\n",
              "      <td>2</td>\n",
              "      <td>3</td>\n",
              "      <td>1</td>\n",
              "      <td>2</td>\n",
              "      <td>43</td>\n",
              "      <td>0</td>\n",
              "      <td>0</td>\n",
              "      <td>0</td>\n",
              "    </tr>\n",
              "    <tr>\n",
              "      <th>3</th>\n",
              "      <td>4</td>\n",
              "      <td>4</td>\n",
              "      <td>1004442.0</td>\n",
              "      <td>49.0</td>\n",
              "      <td>17.1</td>\n",
              "      <td>93.8</td>\n",
              "      <td>NaN</td>\n",
              "      <td>17</td>\n",
              "      <td>2</td>\n",
              "      <td>2</td>\n",
              "      <td>10</td>\n",
              "      <td>1</td>\n",
              "      <td>11</td>\n",
              "      <td>1</td>\n",
              "      <td>0</td>\n",
              "      <td>1</td>\n",
              "    </tr>\n",
              "    <tr>\n",
              "      <th>4</th>\n",
              "      <td>5</td>\n",
              "      <td>5</td>\n",
              "      <td>1004487.0</td>\n",
              "      <td>19.0</td>\n",
              "      <td>10.1</td>\n",
              "      <td>78.5</td>\n",
              "      <td>NaN</td>\n",
              "      <td>17</td>\n",
              "      <td>2</td>\n",
              "      <td>3</td>\n",
              "      <td>96</td>\n",
              "      <td>1</td>\n",
              "      <td>97</td>\n",
              "      <td>7</td>\n",
              "      <td>7</td>\n",
              "      <td>0</td>\n",
              "    </tr>\n",
              "  </tbody>\n",
              "</table>\n",
              "</div>"
            ],
            "text/plain": [
              "   Unnamed: 0  X     CASEID  ...  elet  conserv_alim  anemia\n",
              "0           1  1  1001192.0  ...     0             0       0\n",
              "1           2  2  1001212.0  ...     0             0       1\n",
              "2           3  3  1001232.0  ...     0             0       0\n",
              "3           4  4  1004442.0  ...     1             0       1\n",
              "4           5  5  1004487.0  ...     7             7       0\n",
              "\n",
              "[5 rows x 16 columns]"
            ]
          },
          "metadata": {},
          "execution_count": 12
        }
      ]
    },
    {
      "cell_type": "code",
      "metadata": {
        "colab": {
          "base_uri": "https://localhost:8080/",
          "height": 241
        },
        "id": "0u8ApVP4Y3QN",
        "outputId": "e31ded9d-0053-4bb9-f3e4-1a64593b498a"
      },
      "source": [
        "data_input = data_input.drop(columns=['hemoglobina'])\n",
        "data_input.head()"
      ],
      "execution_count": null,
      "outputs": [
        {
          "output_type": "execute_result",
          "data": {
            "text/html": [
              "<div>\n",
              "<style scoped>\n",
              "    .dataframe tbody tr th:only-of-type {\n",
              "        vertical-align: middle;\n",
              "    }\n",
              "\n",
              "    .dataframe tbody tr th {\n",
              "        vertical-align: top;\n",
              "    }\n",
              "\n",
              "    .dataframe thead th {\n",
              "        text-align: right;\n",
              "    }\n",
              "</style>\n",
              "<table border=\"1\" class=\"dataframe\">\n",
              "  <thead>\n",
              "    <tr style=\"text-align: right;\">\n",
              "      <th></th>\n",
              "      <th>Unnamed: 0</th>\n",
              "      <th>X</th>\n",
              "      <th>CASEID</th>\n",
              "      <th>edad_meses</th>\n",
              "      <th>peso_kg</th>\n",
              "      <th>altura_cm</th>\n",
              "      <th>departamento</th>\n",
              "      <th>tipo_resid</th>\n",
              "      <th>sitio_resid</th>\n",
              "      <th>anos_resid</th>\n",
              "      <th>educ</th>\n",
              "      <th>agua_potable</th>\n",
              "      <th>elet</th>\n",
              "      <th>conserv_alim</th>\n",
              "      <th>anemia</th>\n",
              "    </tr>\n",
              "  </thead>\n",
              "  <tbody>\n",
              "    <tr>\n",
              "      <th>0</th>\n",
              "      <td>1</td>\n",
              "      <td>1</td>\n",
              "      <td>1001192.0</td>\n",
              "      <td>41.0</td>\n",
              "      <td>15.9</td>\n",
              "      <td>98.9</td>\n",
              "      <td>17</td>\n",
              "      <td>2</td>\n",
              "      <td>3</td>\n",
              "      <td>7</td>\n",
              "      <td>1</td>\n",
              "      <td>43</td>\n",
              "      <td>0</td>\n",
              "      <td>0</td>\n",
              "      <td>0</td>\n",
              "    </tr>\n",
              "    <tr>\n",
              "      <th>1</th>\n",
              "      <td>2</td>\n",
              "      <td>2</td>\n",
              "      <td>1001212.0</td>\n",
              "      <td>7.0</td>\n",
              "      <td>9.7</td>\n",
              "      <td>69.0</td>\n",
              "      <td>17</td>\n",
              "      <td>2</td>\n",
              "      <td>3</td>\n",
              "      <td>15</td>\n",
              "      <td>2</td>\n",
              "      <td>43</td>\n",
              "      <td>0</td>\n",
              "      <td>0</td>\n",
              "      <td>1</td>\n",
              "    </tr>\n",
              "    <tr>\n",
              "      <th>2</th>\n",
              "      <td>3</td>\n",
              "      <td>3</td>\n",
              "      <td>1001232.0</td>\n",
              "      <td>0.0</td>\n",
              "      <td>4.0</td>\n",
              "      <td>51.6</td>\n",
              "      <td>17</td>\n",
              "      <td>2</td>\n",
              "      <td>3</td>\n",
              "      <td>1</td>\n",
              "      <td>2</td>\n",
              "      <td>43</td>\n",
              "      <td>0</td>\n",
              "      <td>0</td>\n",
              "      <td>0</td>\n",
              "    </tr>\n",
              "    <tr>\n",
              "      <th>3</th>\n",
              "      <td>4</td>\n",
              "      <td>4</td>\n",
              "      <td>1004442.0</td>\n",
              "      <td>49.0</td>\n",
              "      <td>17.1</td>\n",
              "      <td>93.8</td>\n",
              "      <td>17</td>\n",
              "      <td>2</td>\n",
              "      <td>2</td>\n",
              "      <td>10</td>\n",
              "      <td>1</td>\n",
              "      <td>11</td>\n",
              "      <td>1</td>\n",
              "      <td>0</td>\n",
              "      <td>1</td>\n",
              "    </tr>\n",
              "    <tr>\n",
              "      <th>4</th>\n",
              "      <td>5</td>\n",
              "      <td>5</td>\n",
              "      <td>1004487.0</td>\n",
              "      <td>19.0</td>\n",
              "      <td>10.1</td>\n",
              "      <td>78.5</td>\n",
              "      <td>17</td>\n",
              "      <td>2</td>\n",
              "      <td>3</td>\n",
              "      <td>96</td>\n",
              "      <td>1</td>\n",
              "      <td>97</td>\n",
              "      <td>7</td>\n",
              "      <td>7</td>\n",
              "      <td>0</td>\n",
              "    </tr>\n",
              "  </tbody>\n",
              "</table>\n",
              "</div>"
            ],
            "text/plain": [
              "   Unnamed: 0  X     CASEID  ...  elet  conserv_alim  anemia\n",
              "0           1  1  1001192.0  ...     0             0       0\n",
              "1           2  2  1001212.0  ...     0             0       1\n",
              "2           3  3  1001232.0  ...     0             0       0\n",
              "3           4  4  1004442.0  ...     1             0       1\n",
              "4           5  5  1004487.0  ...     7             7       0\n",
              "\n",
              "[5 rows x 15 columns]"
            ]
          },
          "metadata": {},
          "execution_count": 13
        }
      ]
    },
    {
      "cell_type": "markdown",
      "metadata": {
        "id": "a_U-F1HjQHfa"
      },
      "source": [
        "Dividimos los datasets de revisiones y etiquetas"
      ]
    },
    {
      "cell_type": "code",
      "metadata": {
        "id": "dJ7RXegUQJ8X"
      },
      "source": [
        "x = pd.DataFrame(data_input).drop(columns=[\"CASEID\", \"anemia\"])\n",
        "y = data_input[\"anemia\"]"
      ],
      "execution_count": null,
      "outputs": []
    },
    {
      "cell_type": "markdown",
      "metadata": {
        "id": "caVk16dJ0eJk"
      },
      "source": [
        "Chequeo para datos desbalanceados"
      ]
    },
    {
      "cell_type": "code",
      "metadata": {
        "colab": {
          "base_uri": "https://localhost:8080/"
        },
        "id": "S5UeqCgR0duN",
        "outputId": "9c139445-dec5-4636-eb7a-1b703d907cc4"
      },
      "source": [
        "data_input.anemia.value_counts()"
      ],
      "execution_count": null,
      "outputs": [
        {
          "output_type": "execute_result",
          "data": {
            "text/plain": [
              "0    139950\n",
              "1     33615\n",
              "Name: anemia, dtype: int64"
            ]
          },
          "metadata": {},
          "execution_count": 15
        }
      ]
    },
    {
      "cell_type": "markdown",
      "metadata": {
        "id": "4PwIEvdS1RU_"
      },
      "source": [
        "Utilizando SMOTE para balancear dados"
      ]
    },
    {
      "cell_type": "code",
      "metadata": {
        "colab": {
          "base_uri": "https://localhost:8080/"
        },
        "id": "uD9aXQ2t1Uuf",
        "outputId": "c3bfa1f5-b875-4914-89f2-ca2baf1ad0e2"
      },
      "source": [
        "smote = SMOTE()\n",
        "x_smote, y_smote = smote.fit_resample(x, y)"
      ],
      "execution_count": null,
      "outputs": [
        {
          "output_type": "stream",
          "name": "stderr",
          "text": [
            "/usr/local/lib/python3.7/dist-packages/sklearn/utils/deprecation.py:87: FutureWarning: Function safe_indexing is deprecated; safe_indexing is deprecated in version 0.22 and will be removed in version 0.24.\n",
            "  warnings.warn(msg, category=FutureWarning)\n"
          ]
        }
      ]
    },
    {
      "cell_type": "markdown",
      "metadata": {
        "id": "Bk0xOFTX1gKQ"
      },
      "source": [
        "Chequeo los datos rebalanceados"
      ]
    },
    {
      "cell_type": "code",
      "metadata": {
        "colab": {
          "base_uri": "https://localhost:8080/"
        },
        "id": "KdlfZ9Bk1jJo",
        "outputId": "658c2b58-f2c8-4848-92e4-c18b9864ce0c"
      },
      "source": [
        "pd.Series(y_smote).value_counts()"
      ],
      "execution_count": null,
      "outputs": [
        {
          "output_type": "execute_result",
          "data": {
            "text/plain": [
              "1    139950\n",
              "0    139950\n",
              "dtype: int64"
            ]
          },
          "metadata": {},
          "execution_count": 17
        }
      ]
    },
    {
      "cell_type": "markdown",
      "metadata": {
        "id": "BGCaNKfr2Wcc"
      },
      "source": [
        "\n",
        "\n",
        "Dividimos en train y test."
      ]
    },
    {
      "cell_type": "code",
      "metadata": {
        "id": "XgAPCvxG2V87"
      },
      "source": [
        "x_train, x_test, y_train, y_test = train_test_split(x_smote, y_smote, test_size=0.33, random_state=42)"
      ],
      "execution_count": null,
      "outputs": []
    },
    {
      "cell_type": "markdown",
      "metadata": {
        "id": "FkiTos7mQj1i"
      },
      "source": [
        "Haciemos el Tunning del modelo"
      ]
    },
    {
      "cell_type": "code",
      "metadata": {
        "colab": {
          "base_uri": "https://localhost:8080/"
        },
        "id": "b-FPMrn7QjS6",
        "outputId": "62bdc1a7-8540-496f-c5c2-a04d659005c3"
      },
      "source": [
        "# Number of trees in random forest\n",
        "n_estimators = [int(x) for x in np.linspace(start = 200, stop = 2000, num = 10)]\n",
        "# Number of features to consider at every split\n",
        "max_features = ['auto', 'sqrt']\n",
        "# Maximum number of levels in tree\n",
        "max_depth = [int(x) for x in np.linspace(1, 22, num = 11)]\n",
        "max_depth.append(None)\n",
        "# Minimum number of samples required to split a node\n",
        "min_samples_split = [2, 5, 10]\n",
        "# Minimum number of samples required at each leaf node\n",
        "min_samples_leaf = [1, 2, 4]\n",
        "# Method of selecting samples for training each tree\n",
        "bootstrap = [True, False]\n",
        "\n",
        "# Create the random grid\n",
        "random_grid = {'n_estimators': n_estimators,\n",
        "               'max_features': max_features,\n",
        "               'max_depth': max_depth,\n",
        "               'min_samples_split': min_samples_split,\n",
        "               'min_samples_leaf': min_samples_leaf,\n",
        "               'bootstrap': bootstrap}\n",
        "\n",
        "rf = RandomForestClassifier()\n",
        "\n",
        "rf_random = RandomizedSearchCV(estimator = rf, param_distributions = random_grid, n_iter = 5, cv = 3, verbose=2, random_state=42, n_jobs = -1)\n",
        "\n",
        "rf_random.fit(x_train, y_train)"
      ],
      "execution_count": null,
      "outputs": [
        {
          "output_type": "stream",
          "name": "stdout",
          "text": [
            "Fitting 3 folds for each of 5 candidates, totalling 15 fits\n"
          ]
        },
        {
          "output_type": "stream",
          "name": "stderr",
          "text": [
            "[Parallel(n_jobs=-1)]: Using backend LokyBackend with 2 concurrent workers.\n",
            "/usr/local/lib/python3.7/dist-packages/joblib/externals/loky/process_executor.py:691: UserWarning: A worker stopped while some jobs were given to the executor. This can be caused by a too short worker timeout or by a memory leak.\n",
            "  \"timeout or by a memory leak.\", UserWarning\n",
            "[Parallel(n_jobs=-1)]: Done  15 out of  15 | elapsed: 39.2min finished\n"
          ]
        },
        {
          "output_type": "execute_result",
          "data": {
            "text/plain": [
              "RandomizedSearchCV(cv=3, error_score=nan,\n",
              "                   estimator=RandomForestClassifier(bootstrap=True,\n",
              "                                                    ccp_alpha=0.0,\n",
              "                                                    class_weight=None,\n",
              "                                                    criterion='gini',\n",
              "                                                    max_depth=None,\n",
              "                                                    max_features='auto',\n",
              "                                                    max_leaf_nodes=None,\n",
              "                                                    max_samples=None,\n",
              "                                                    min_impurity_decrease=0.0,\n",
              "                                                    min_impurity_split=None,\n",
              "                                                    min_samples_leaf=1,\n",
              "                                                    min_samples_split=2,\n",
              "                                                    min_weight_fraction_leaf=0.0,\n",
              "                                                    n_estimators=100,\n",
              "                                                    n_jobs...\n",
              "                   iid='deprecated', n_iter=5, n_jobs=-1,\n",
              "                   param_distributions={'bootstrap': [True, False],\n",
              "                                        'max_depth': [1, 3, 5, 7, 9, 11, 13, 15,\n",
              "                                                      17, 19, 22, None],\n",
              "                                        'max_features': ['auto', 'sqrt'],\n",
              "                                        'min_samples_leaf': [1, 2, 4],\n",
              "                                        'min_samples_split': [2, 5, 10],\n",
              "                                        'n_estimators': [200, 400, 600, 800,\n",
              "                                                         1000, 1200, 1400, 1600,\n",
              "                                                         1800, 2000]},\n",
              "                   pre_dispatch='2*n_jobs', random_state=42, refit=True,\n",
              "                   return_train_score=False, scoring=None, verbose=2)"
            ]
          },
          "metadata": {},
          "execution_count": 19
        }
      ]
    },
    {
      "cell_type": "markdown",
      "metadata": {
        "id": "SsFMeL-9ShS1"
      },
      "source": [
        "Entrenamos al modelo Random Forest"
      ]
    },
    {
      "cell_type": "code",
      "metadata": {
        "colab": {
          "base_uri": "https://localhost:8080/"
        },
        "id": "bbsxvLODSfUM",
        "outputId": "bd06af05-291f-4f5c-edcf-ca2bf69d6517"
      },
      "source": [
        "modelo = RandomForestClassifier(bootstrap=rf_random.best_params_[\"bootstrap\"],\n",
        "                                max_depth=rf_random.best_params_[\"max_depth\"],\n",
        "                                max_features=rf_random.best_params_[\"max_features\"],\n",
        "                                min_samples_leaf=rf_random.best_params_[\"min_samples_leaf\"],\n",
        "                                min_samples_split=rf_random.best_params_[\"min_samples_split\"],\n",
        "                                n_estimators=rf_random.best_params_[\"n_estimators\"])\n",
        "\n",
        "modelo.fit(x_train, y_train)"
      ],
      "execution_count": null,
      "outputs": [
        {
          "output_type": "execute_result",
          "data": {
            "text/plain": [
              "RandomForestClassifier(bootstrap=False, ccp_alpha=0.0, class_weight=None,\n",
              "                       criterion='gini', max_depth=17, max_features='sqrt',\n",
              "                       max_leaf_nodes=None, max_samples=None,\n",
              "                       min_impurity_decrease=0.0, min_impurity_split=None,\n",
              "                       min_samples_leaf=4, min_samples_split=10,\n",
              "                       min_weight_fraction_leaf=0.0, n_estimators=600,\n",
              "                       n_jobs=None, oob_score=False, random_state=None,\n",
              "                       verbose=0, warm_start=False)"
            ]
          },
          "metadata": {},
          "execution_count": 20
        }
      ]
    },
    {
      "cell_type": "markdown",
      "metadata": {
        "id": "E7Dx_IEbS-9E"
      },
      "source": [
        "Aplicamos la evaluación del modelo"
      ]
    },
    {
      "cell_type": "code",
      "metadata": {
        "colab": {
          "base_uri": "https://localhost:8080/"
        },
        "id": "IeLh5hORTAvm",
        "outputId": "7e0d2cdc-7683-4a91-e40c-98f507a45616"
      },
      "source": [
        "preds = modelo.predict(x_test)\n",
        "\n",
        "print(\"Acurácia do modelo: %.2f\" %(accuracy_score(preds, y_test)*100) + \"%\")\n",
        "print(\"Cohen Kappa       : %.2f\" %(cohen_kappa_score(preds, y_test)*100) + \"%\")"
      ],
      "execution_count": null,
      "outputs": [
        {
          "output_type": "stream",
          "name": "stdout",
          "text": [
            "Acurácia do modelo: 86.55%\n",
            "Cohen Kappa       : 73.10%\n"
          ]
        }
      ]
    },
    {
      "cell_type": "markdown",
      "metadata": {
        "id": "ObXP3BkHa4q2"
      },
      "source": [
        "El modelo tiene una accuracy de "
      ]
    },
    {
      "cell_type": "markdown",
      "metadata": {
        "id": "KRuP1DBV31wf"
      },
      "source": [
        "Confusion Matrix"
      ]
    },
    {
      "cell_type": "code",
      "metadata": {
        "colab": {
          "base_uri": "https://localhost:8080/"
        },
        "id": "u3_6N33r30GN",
        "outputId": "abc10002-0a3f-4a4b-9c5c-8a242fb2642c"
      },
      "source": [
        "confusion_matrix(preds, y_test)"
      ],
      "execution_count": null,
      "outputs": [
        {
          "output_type": "execute_result",
          "data": {
            "text/plain": [
              "array([[41451,  7899],\n",
              "       [ 4528, 38489]])"
            ]
          },
          "metadata": {},
          "execution_count": 23
        }
      ]
    },
    {
      "cell_type": "code",
      "metadata": {
        "colab": {
          "base_uri": "https://localhost:8080/",
          "height": 557
        },
        "id": "ME7GlQczF6iU",
        "outputId": "fc83aef0-4474-4dbd-ff47-ea1e45630d43"
      },
      "source": [
        "import seaborn as sns\n",
        "from sklearn.metrics import confusion_matrix, classification_report\n",
        "cm = confusion_matrix(preds, y_test)\n",
        "plt.subplots(figsize=(10, 6))\n",
        "sns.heatmap(cm, annot = True, fmt = 'g')\n",
        "plt.xlabel(\"Predicted\")\n",
        "plt.ylabel(\"Actual\")\n",
        "plt.title(\"Confusion Matrix\")\n",
        "plt.show()\n",
        "\n",
        "print(classification_report(preds, y_test))"
      ],
      "execution_count": null,
      "outputs": [
        {
          "output_type": "display_data",
          "data": {
            "image/png": "[encoded data removed]",
            "text/plain": [
              "<Figure size 720x432 with 2 Axes>"
            ]
          },
          "metadata": {
            "needs_background": "light"
          }
        },
        {
          "output_type": "stream",
          "name": "stdout",
          "text": [
            "              precision    recall  f1-score   support\n",
            "\n",
            "           0       0.90      0.84      0.87     49350\n",
            "           1       0.83      0.89      0.86     43017\n",
            "\n",
            "    accuracy                           0.87     92367\n",
            "   macro avg       0.87      0.87      0.87     92367\n",
            "weighted avg       0.87      0.87      0.87     92367\n",
            "\n"
          ]
        }
      ]
    }
  ]
}